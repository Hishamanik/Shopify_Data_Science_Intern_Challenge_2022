{
 "cells": [
  {
   "cell_type": "code",
   "execution_count": 22,
   "metadata": {},
   "outputs": [],
   "source": [
    "import os \n",
    "import csv \n",
    "import pandas as pd\n",
    "import numpy as np\n",
    "from pathlib import Path\n"
   ]
  },
  {
   "cell_type": "code",
   "execution_count": 23,
   "metadata": {},
   "outputs": [],
   "source": [
    "data = ('2019_Winter_Data_Science_Intern_Challenge_Data_Set.csv')\n",
    "csv_path = data\n",
    "\n",
    "# Import the data set as a DataFrame\n",
    "data_df = pd.read_csv(csv_path, encoding=\"utf-8\")"
   ]
  },
  {
   "cell_type": "code",
   "execution_count": 24,
   "metadata": {},
   "outputs": [
    {
     "name": "stdout",
     "output_type": "stream",
     "text": [
      "1.0\n",
      "Incorrect as it just counts the total numbers of rows in each column\n",
      "3145.13\n",
      "Incorrect count() is still used instead of sum() function\n",
      "This is the mistake done as described in the assignment\n"
     ]
    }
   ],
   "source": [
    "# Incorrect calculation explained as a mistaken count() instead of sum() function\n",
    "orderAmount_count = data_df['order_amount'].count()\n",
    "totalItem_count = data_df['total_items'].count()\n",
    "AOV = orderAmount_count / totalItem_count\n",
    "print(AOV)\n",
    "print(\"Incorrect as it just counts the total numbers of rows in each column\")\n",
    "orderAmount_sum = data_df['order_amount'].sum()\n",
    "totalItem_count = data_df['total_items'].count()\n",
    "AOV = orderAmount_sum / totalItem_count\n",
    "print(\"%.2f\" % AOV)\n",
    "print(\"Incorrect count() is still used instead of sum() function\")\n",
    "print(\"This is the mistake done as described in the assignment\")"
   ]
  },
  {
   "cell_type": "markdown",
   "metadata": {},
   "source": [
    "Q1 a) Think about what could be going wrong with our calculation. Think about a better way to evaluate this data. \n",
    "\n",
    "Solution: The incorrect value of 3145.13 was resulted by taking the count function of total_items column which resulted in producing the total numbers of rows presented in the coloumn instead of telling the true value which we wanted that is the total number of items ordered. This caused the value of total_item to significantly low (error). So when the resulting AOV is calulated by using the formula total order amount / total number of items order. The value of AOv increased greatly resulting in the wrong value. "
   ]
  },
  {
   "cell_type": "markdown",
   "metadata": {},
   "source": [
    "Q1 b) What metric would you report for this dataset?\n",
    "\n",
    "Solution: I want to report the sums of both 'order_amount' and 'total_items' to calculate the Average of the values by totalling the numbers in each column instaed of calculating the total rows "
   ]
  },
  {
   "cell_type": "code",
   "execution_count": 25,
   "metadata": {},
   "outputs": [
    {
     "name": "stdout",
     "output_type": "stream",
     "text": [
      "15725640\n",
      "43936\n"
     ]
    }
   ],
   "source": [
    "#Correct calculation\n",
    "orderAmount_sum = data_df['order_amount'].sum()\n",
    "print(orderAmount_sum)\n",
    "totalItem_sum = data_df['total_items'].sum()\n",
    "print(totalItem_sum)"
   ]
  },
  {
   "cell_type": "code",
   "execution_count": 26,
   "metadata": {},
   "outputs": [
    {
     "name": "stdout",
     "output_type": "stream",
     "text": [
      "357.92\n"
     ]
    }
   ],
   "source": [
    "AOV = orderAmount_sum/totalItem_sum\n",
    "print(\"%.2f\" % AOV)"
   ]
  },
  {
   "cell_type": "markdown",
   "metadata": {},
   "source": [
    "Q1 c) What is its value?\n",
    "\n",
    "Solution: 357.92"
   ]
  }
 ],
 "metadata": {
  "interpreter": {
   "hash": "4f3b078249380ea762697f4f8f6aea77b3d6e43cbb1b18cbb73d8cde5aa597e7"
  },
  "kernelspec": {
   "display_name": "Python 3.8.9 64-bit (system)",
   "language": "python",
   "name": "python3"
  },
  "language_info": {
   "codemirror_mode": {
    "name": "ipython",
    "version": 3
   },
   "file_extension": ".py",
   "mimetype": "text/x-python",
   "name": "python",
   "nbconvert_exporter": "python",
   "pygments_lexer": "ipython3",
   "version": "3.9.7"
  },
  "orig_nbformat": 4
 },
 "nbformat": 4,
 "nbformat_minor": 2
}
